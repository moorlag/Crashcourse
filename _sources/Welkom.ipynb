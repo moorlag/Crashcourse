{
 "cells": [
  {
   "cell_type": "markdown",
   "id": "85a4b2d2-98a9-4391-b9ac-8f86de75b21a",
   "metadata": {},
   "source": [
    "# Welkom bij de CrashCourse Python"
   ]
  },
  {
   "cell_type": "markdown",
   "id": "0746ecaa-846f-4b89-9f65-610b42e649f6",
   "metadata": {},
   "source": [
    "Dit is de introductie Python. \n",
    "Hieronder vind je de eerste commando's voor je eerste Python Script"
   ]
  },
  {
   "cell_type": "code",
   "execution_count": 1,
   "id": "216a5a1c-26ef-4edf-bdc1-c2501d529c72",
   "metadata": {},
   "outputs": [
    {
     "data": {
      "text/plain": [
       "4"
      ]
     },
     "execution_count": 1,
     "metadata": {},
     "output_type": "execute_result"
    }
   ],
   "source": [
    "2 + 2\n"
   ]
  },
  {
   "cell_type": "code",
   "execution_count": null,
   "id": "5348d854-9a38-4abc-abf3-5005cb344662",
   "metadata": {},
   "outputs": [],
   "source": []
  }
 ],
 "metadata": {
  "kernelspec": {
   "display_name": "Python 3 (ipykernel)",
   "language": "python",
   "name": "python3"
  },
  "language_info": {
   "codemirror_mode": {
    "name": "ipython",
    "version": 3
   },
   "file_extension": ".py",
   "mimetype": "text/x-python",
   "name": "python",
   "nbconvert_exporter": "python",
   "pygments_lexer": "ipython3",
   "version": "3.9.7"
  }
 },
 "nbformat": 4,
 "nbformat_minor": 5
}
