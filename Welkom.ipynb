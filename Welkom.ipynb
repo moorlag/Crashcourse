{
 "cells": [
  {
   "cell_type": "markdown",
   "id": "85a4b2d2-98a9-4391-b9ac-8f86de75b21a",
   "metadata": {},
   "source": [
    "# Welkom bij de CrashCourse Python"
   ]
  },
  {
   "cell_type": "markdown",
   "id": "c1d393d5-3a92-4e8b-b410-60c33321aa15",
   "metadata": {},
   "source": [
    "Een snelle introductie om te beginnen met Python."
   ]
  },
  {
   "cell_type": "markdown",
   "id": "6c6a0934-bc98-4d35-93e2-3ef9fa079dd1",
   "metadata": {},
   "source": [
    "# Hello World!\n",
    "\n",
    "De eerste **echte** superpower is tekst op het scherm te printen. \n",
    "Met Python kan dit met het onderstaande commando. "
   ]
  },
  {
   "cell_type": "code",
   "execution_count": 2,
   "id": "9a0c54d4-cda5-49cd-a5ea-e3cf66d0178a",
   "metadata": {},
   "outputs": [
    {
     "name": "stdout",
     "output_type": "stream",
     "text": [
      "Hello world!\n"
     ]
    }
   ],
   "source": [
    "print(\"Hello world!\")"
   ]
  },
  {
   "cell_type": "markdown",
   "id": "8b241a16-8026-4cd3-8d54-56a41d86051d",
   "metadata": {},
   "source": [
    "je kunt een variabele gebruiken om iets in op te slaan. In dit geval is de variabele **msg**"
   ]
  },
  {
   "cell_type": "code",
   "execution_count": 3,
   "id": "d76a2f28-34d0-4362-a8a5-20c56c79f0d4",
   "metadata": {},
   "outputs": [
    {
     "name": "stdout",
     "output_type": "stream",
     "text": [
      "Hartje Python\n",
      "Leren programmeren is alsof je een nieuwe superpower leert!\n"
     ]
    }
   ],
   "source": [
    "msg = \"Hartje Python\"\n",
    "print(msg)\n",
    "\n",
    "msg = \"Leren programmeren is alsof je een nieuwe superpower leert!\"\n",
    "print(msg)"
   ]
  },
  {
   "cell_type": "markdown",
   "id": "b9457c7b-406b-47ed-9e9c-5175c38f805b",
   "metadata": {},
   "source": [
    "Zie je dat regel 1 iets anders print dan regel 2? Dat komt omdat de waarde van de variabele veranderd wordt. "
   ]
  },
  {
   "cell_type": "markdown",
   "id": "6b160343-d9ea-41ba-8c36-f92c6893d950",
   "metadata": {},
   "source": [
    "Je kunt ook een variabele gebruiken zoals in de tekst hieronder."
   ]
  },
  {
   "cell_type": "code",
   "execution_count": 4,
   "id": "c902f7ab-cc90-4de8-a102-acf3b074b2e9",
   "metadata": {},
   "outputs": [
    {
     "name": "stdout",
     "output_type": "stream",
     "text": [
      "Mijn favoriete getal is 42.\n"
     ]
    }
   ],
   "source": [
    "fav_num = 42\n",
    "msg = \"Mijn favoriete getal is \" + str(fav_num) + \".\"\n",
    "\n",
    "print(msg)"
   ]
  },
  {
   "cell_type": "markdown",
   "id": "640999a3-e21b-47a2-928d-2445a2f8375d",
   "metadata": {},
   "source": [
    "Zie je \"Mijn favoriete getal is \"? Valt je het op dat er een spatie volgt na **is**? Als je dat niet doet komt 42 vast te zitten aan is. "
   ]
  },
  {
   "cell_type": "code",
   "execution_count": null,
   "id": "4553a73c-2ed4-44fb-9614-8e78e6843165",
   "metadata": {},
   "outputs": [],
   "source": []
  }
 ],
 "metadata": {
  "kernelspec": {
   "display_name": "Python 3 (ipykernel)",
   "language": "python",
   "name": "python3"
  },
  "language_info": {
   "codemirror_mode": {
    "name": "ipython",
    "version": 3
   },
   "file_extension": ".py",
   "mimetype": "text/x-python",
   "name": "python",
   "nbconvert_exporter": "python",
   "pygments_lexer": "ipython3",
   "version": "3.9.7"
  }
 },
 "nbformat": 4,
 "nbformat_minor": 5
}
